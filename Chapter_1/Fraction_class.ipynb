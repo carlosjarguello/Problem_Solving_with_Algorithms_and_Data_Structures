{
  "nbformat": 4,
  "nbformat_minor": 0,
  "metadata": {
    "colab": {
      "provenance": [],
      "collapsed_sections": [],
      "authorship_tag": "ABX9TyO7ilaQUo2+3Jd38YdR1iy2",
      "include_colab_link": true
    },
    "kernelspec": {
      "name": "python3",
      "display_name": "Python 3"
    },
    "language_info": {
      "name": "python"
    }
  },
  "cells": [
    {
      "cell_type": "markdown",
      "metadata": {
        "id": "view-in-github",
        "colab_type": "text"
      },
      "source": [
        "<a href=\"https://colab.research.google.com/github/carlosjarguello/Problem_Solving_Algo_Data_Struct/blob/main/Chapter_1/Fraction_class.ipynb\" target=\"_parent\"><img src=\"https://colab.research.google.com/assets/colab-badge.svg\" alt=\"Open In Colab\"/></a>"
      ]
    },
    {
      "cell_type": "code",
      "source": [
        "# Euclid algorithm:\n",
        "\n",
        "# Find gcd:\n",
        "def gcd(m,n):\n",
        "  while n != 0:\n",
        "    tmp = n\n",
        "    n = m % n\n",
        "    m = tmp  \n",
        "  return m"
      ],
      "metadata": {
        "id": "7-jiQ6uczpba"
      },
      "execution_count": 1,
      "outputs": []
    },
    {
      "cell_type": "code",
      "execution_count": 18,
      "metadata": {
        "id": "qBFspNXSIQAg"
      },
      "outputs": [],
      "source": [
        "from dataclasses import dataclass\n",
        "\n",
        "@dataclass\n",
        "class Fraction:\n",
        "\n",
        "  num: int\n",
        "  den: int\n",
        "\n",
        "  def __str__(self):\n",
        "    return(str(self.num) + \"/\" + str(self.den))\n",
        "  \n",
        "  def __add__(self, other_fraction):\n",
        "    new_den = self.den * other_fraction.den\n",
        "    new_num = self.num * other_fraction.den + other_fraction.num * self.den\n",
        "\n",
        "    common = gcd(new_num,new_den)\n",
        "    return Fraction(new_num//common,new_den//common)\n",
        "\n",
        "  def __eq__(self, other_fraction):\n",
        "    return (self.num==other_fraction.num and self.den==other_fraction.den)\n",
        "\n",
        "  # Developed as activities:\n",
        "\n",
        "  def __truediv__(self, other_fraction):\n",
        "    new_den = self.den * other_fraction.num\n",
        "    new_num = self.num * other_fraction.den\n",
        "\n",
        "    grts_cmmon_div = gcd(new_num, new_den)\n",
        "    return Fraction(new_num//grts_cmmon_div, new_den//grts_cmmon_div)\n",
        "\n",
        "  def __sub__(self, other_fraction):\n",
        "    new_den = self.den * other_fraction.den\n",
        "    new_num = self.num * other_fraction.den - other_fraction.num * self.den\n",
        "\n",
        "    common = gcd(new_num,new_den)\n",
        "    return Fraction(new_num//common,new_den//common)\n",
        "\n",
        "  def __lt__(self, other_fraction):\n",
        "    return (self.num*other_fraction.den < self.den*other_fraction.num)"
      ]
    },
    {
      "cell_type": "code",
      "source": [
        "fraction_1 = Fraction(1,3)\n",
        "fraction_2 = Fraction(1,2)"
      ],
      "metadata": {
        "id": "-b6uCWi1u93R"
      },
      "execution_count": 19,
      "outputs": []
    },
    {
      "cell_type": "code",
      "source": [
        "fraction_1 < fraction_2"
      ],
      "metadata": {
        "colab": {
          "base_uri": "https://localhost:8080/"
        },
        "id": "h_S4xtUnwNu7",
        "outputId": "bef81cac-d1fc-4dca-b490-51b74bb6fc67"
      },
      "execution_count": 21,
      "outputs": [
        {
          "output_type": "execute_result",
          "data": {
            "text/plain": [
              "True"
            ]
          },
          "metadata": {},
          "execution_count": 21
        }
      ]
    },
    {
      "cell_type": "code",
      "source": [],
      "metadata": {
        "id": "v59kZbatwRUV"
      },
      "execution_count": null,
      "outputs": []
    }
  ]
}
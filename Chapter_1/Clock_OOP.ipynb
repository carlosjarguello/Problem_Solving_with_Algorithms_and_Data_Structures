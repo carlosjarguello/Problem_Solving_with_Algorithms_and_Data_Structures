{
  "nbformat": 4,
  "nbformat_minor": 0,
  "metadata": {
    "colab": {
      "provenance": [],
      "collapsed_sections": [],
      "authorship_tag": "ABX9TyOl+cqB4YExi16fY2iDFzGL",
      "include_colab_link": true
    },
    "kernelspec": {
      "name": "python3",
      "display_name": "Python 3"
    },
    "language_info": {
      "name": "python"
    }
  },
  "cells": [
    {
      "cell_type": "markdown",
      "metadata": {
        "id": "view-in-github",
        "colab_type": "text"
      },
      "source": [
        "<a href=\"https://colab.research.google.com/github/carlosjarguello/Problem_Solving_Algo_Data_Struct/blob/main/Chapter_1/Clock_OOP.ipynb\" target=\"_parent\"><img src=\"https://colab.research.google.com/assets/colab-badge.svg\" alt=\"Open In Colab\"/></a>"
      ]
    },
    {
      "cell_type": "code",
      "source": [
        "from dataclasses import dataclass"
      ],
      "metadata": {
        "id": "jMQohzybY-4P"
      },
      "execution_count": null,
      "outputs": []
    },
    {
      "cell_type": "code",
      "execution_count": null,
      "metadata": {
        "id": "CPts1xqfU6AT"
      },
      "outputs": [],
      "source": [
        "@dataclass\n",
        "class ClockHand:\n",
        "  __limit: int \n",
        "  __value: float = 0    \n",
        "  \n",
        "  def advance(self):\n",
        "    self.__value +=1\n",
        "    if self.__value >= self.__limit:\n",
        "      self.__value = 0\n",
        "  \n",
        "  def get_value(self):\n",
        "    return self.__value\n",
        "\n",
        "  def __str__(self):\n",
        "    if self.__value <10:\n",
        "      return \"0\" + str(self.__value)\n",
        "    \n",
        "    return str(self.__value)"
      ]
    },
    {
      "cell_type": "code",
      "source": [
        "class Clock:\n",
        "\n",
        "  def __init__(self):\n",
        "    self.__hours = ClockHand(24)\n",
        "    self.__minutes = ClockHand(60)\n",
        "    self.__seconds = ClockHand(60)\n",
        "\n",
        "  def advance_clock(self):\n",
        "    self.__seconds.advance()\n",
        "\n",
        "    if self.__seconds.get_value() == 0:\n",
        "      self.__minutes.advance()\n",
        "\n",
        "      if self.__minutes.get_value() == 0:\n",
        "        self.__hours.advance()\n",
        "    \n",
        "  def __str__(self):\n",
        "    return (self.__hours.__str__()) + \":\" + (self.__minutes.__str__()) + \":\" + (self.__seconds.__str__())\n",
        "\n"
      ],
      "metadata": {
        "id": "rfGqkoVTVqer"
      },
      "execution_count": null,
      "outputs": []
    },
    {
      "cell_type": "code",
      "source": [
        "my_clock = Clock()"
      ],
      "metadata": {
        "id": "FurqrPvaa_ib"
      },
      "execution_count": null,
      "outputs": []
    },
    {
      "cell_type": "code",
      "source": [
        "print(my_clock)"
      ],
      "metadata": {
        "colab": {
          "base_uri": "https://localhost:8080/"
        },
        "id": "9sHGtabjbCzW",
        "outputId": "2136f641-604e-403c-9916-7774057ffab8"
      },
      "execution_count": null,
      "outputs": [
        {
          "output_type": "stream",
          "name": "stdout",
          "text": [
            "00:00:00\n"
          ]
        }
      ]
    },
    {
      "cell_type": "code",
      "source": [],
      "metadata": {
        "id": "phzxZXiesdE2"
      },
      "execution_count": null,
      "outputs": []
    }
  ]
}
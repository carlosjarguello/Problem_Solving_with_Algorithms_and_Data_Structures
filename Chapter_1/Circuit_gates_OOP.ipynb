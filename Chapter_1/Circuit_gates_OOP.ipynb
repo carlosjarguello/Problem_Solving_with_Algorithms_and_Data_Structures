{
  "nbformat": 4,
  "nbformat_minor": 0,
  "metadata": {
    "colab": {
      "provenance": [],
      "collapsed_sections": [],
      "authorship_tag": "ABX9TyO/PiMs4RAILcsHPBSsvdLW",
      "include_colab_link": true
    },
    "kernelspec": {
      "name": "python3",
      "display_name": "Python 3"
    },
    "language_info": {
      "name": "python"
    }
  },
  "cells": [
    {
      "cell_type": "markdown",
      "metadata": {
        "id": "view-in-github",
        "colab_type": "text"
      },
      "source": [
        "<a href=\"https://colab.research.google.com/github/carlosjarguello/Problem_Solving_Algo_Data_Struct/blob/main/Chapter_1/Circuit_gates_OOP.ipynb\" target=\"_parent\"><img src=\"https://colab.research.google.com/assets/colab-badge.svg\" alt=\"Open In Colab\"/></a>"
      ]
    },
    {
      "cell_type": "code",
      "execution_count": 1,
      "metadata": {
        "id": "GLuRJSCK56OR"
      },
      "outputs": [],
      "source": [
        "from dataclasses import dataclass"
      ]
    },
    {
      "cell_type": "code",
      "source": [
        "@dataclass\n",
        "class LogicGate:\n",
        "    \n",
        "    label: int\n",
        "\n",
        "    def getLabel(self):\n",
        "        return self.label\n",
        "\n",
        "    def getOutput(self):\n",
        "        self.output = self.performGateLogic()\n",
        "        return self.output"
      ],
      "metadata": {
        "id": "NxmW1YfL6BcK"
      },
      "execution_count": 3,
      "outputs": []
    },
    {
      "cell_type": "code",
      "source": [
        "@dataclass\n",
        "class BinaryGate(LogicGate):\n",
        "\n",
        "    pinA: bool = None\n",
        "    pinB: bool = None\n",
        "\n",
        "#    def __init__(self,n):\n",
        "#        LogicGate.__init__(self,n)\n",
        "#\n",
        "#        self.pinA = None\n",
        "#        self.pinB = None\n",
        "\n",
        "    def getPinA(self):\n",
        "        return int(input(\"Enter Pin A input for gate \"+ self.getLabel()+\"-->\"))\n",
        "\n",
        "    def getPinB(self):\n",
        "        return int(input(\"Enter Pin B input for gate \"+ self.getLabel()+\"-->\"))"
      ],
      "metadata": {
        "id": "NvoNe9Kd6zUK"
      },
      "execution_count": 6,
      "outputs": []
    },
    {
      "cell_type": "code",
      "source": [
        "class UnaryGate(LogicGate):\n",
        "\n",
        "    def __init__(self,n):\n",
        "        LogicGate.__init__(self,n)\n",
        "\n",
        "        self.pin = None\n",
        "\n",
        "    def getPin(self):\n",
        "        return int(input(\"Enter Pin input for gate \"+ self.getLabel()+\"-->\"))"
      ],
      "metadata": {
        "id": "0gPteaBm8f9y"
      },
      "execution_count": 9,
      "outputs": []
    },
    {
      "cell_type": "code",
      "source": [
        "class AndGate(BinaryGate):\n",
        "\n",
        "    def __init__(self,n):\n",
        "        super(AndGate,self).__init__(n)\n",
        "\n",
        "    def performGateLogic(self):\n",
        "\n",
        "        a = self.getPinA()\n",
        "        b = self.getPinB()\n",
        "        if a==1 and b==1:\n",
        "            return 1\n",
        "        else:\n",
        "            return 0"
      ],
      "metadata": {
        "id": "Mc6bxc1O8iwH"
      },
      "execution_count": 11,
      "outputs": []
    },
    {
      "cell_type": "code",
      "source": [
        "class OrGate(BinaryGate):\n",
        "\n",
        "    def __init__(self,n):\n",
        "        super(OrGate,self).__init__(n)\n",
        "\n",
        "    def performGateLogic(self):\n",
        "\n",
        "        a = self.getPinA()\n",
        "        b = self.getPinB()\n",
        "        if a==1 or b==1:\n",
        "            return 1\n",
        "        else:\n",
        "            return 0"
      ],
      "metadata": {
        "id": "GzKW-xmsEahp"
      },
      "execution_count": 16,
      "outputs": []
    },
    {
      "cell_type": "code",
      "source": [
        "class Connector:\n",
        "\n",
        "    def __init__(self, fgate, tgate):\n",
        "        self.fromgate = fgate\n",
        "        self.togate = tgate\n",
        "\n",
        "        tgate.setNextPin(self)\n",
        "\n",
        "    def getFrom(self):\n",
        "        return self.fromgate\n",
        "\n",
        "    def getTo(self):\n",
        "        return self.togate"
      ],
      "metadata": {
        "id": "Vn6UMceX9nNq"
      },
      "execution_count": 17,
      "outputs": []
    },
    {
      "cell_type": "code",
      "source": [
        "def setNextPin(self, source):\n",
        "    if self.pinA == None:\n",
        "        self.pinA = source\n",
        "    else:\n",
        "        if self.pinB == None:\n",
        "            self.pinB = source\n",
        "        else:\n",
        "           raise RuntimeError(\"Error: NO EMPTY PINS\")"
      ],
      "metadata": {
        "id": "UJLomvOrD1ps"
      },
      "execution_count": 24,
      "outputs": []
    },
    {
      "cell_type": "code",
      "source": [
        "class NotGate(UnaryGate):\n",
        "\n",
        "    def __init__(self,n):\n",
        "        UnaryGate.__init__(self,n)\n",
        "\n",
        "    def performGateLogic(self):\n",
        "        if self.getPin():\n",
        "            return 0\n",
        "        else:\n",
        "            return 1"
      ],
      "metadata": {
        "id": "q3CotXryEH51"
      },
      "execution_count": 25,
      "outputs": []
    },
    {
      "cell_type": "code",
      "source": [
        "def main():\n",
        "   g1 = AndGate(\"G1\")\n",
        "   g2 = AndGate(\"G2\")\n",
        "   g3 = OrGate(\"G3\")\n",
        "   g4 = NotGate(\"G4\")\n",
        "   c1 = Connector(g1,g3)\n",
        "   c2 = Connector(g2,g3)\n",
        "   c3 = Connector(g3,g4)\n",
        "   print(g4.getOutput())\n",
        "\n",
        "main()"
      ],
      "metadata": {
        "colab": {
          "base_uri": "https://localhost:8080/",
          "height": 353
        },
        "id": "NK0ZbV9gEKmd",
        "outputId": "f1f43397-2e59-4cb9-f2b2-5115b94c3b38"
      },
      "execution_count": 26,
      "outputs": [
        {
          "output_type": "error",
          "ename": "AttributeError",
          "evalue": "ignored",
          "traceback": [
            "\u001b[0;31m---------------------------------------------------------------------------\u001b[0m",
            "\u001b[0;31mAttributeError\u001b[0m                            Traceback (most recent call last)",
            "\u001b[0;32m<ipython-input-26-0c80a6eefe85>\u001b[0m in \u001b[0;36m<module>\u001b[0;34m\u001b[0m\n\u001b[1;32m      9\u001b[0m    \u001b[0mprint\u001b[0m\u001b[0;34m(\u001b[0m\u001b[0mg4\u001b[0m\u001b[0;34m.\u001b[0m\u001b[0mgetOutput\u001b[0m\u001b[0;34m(\u001b[0m\u001b[0;34m)\u001b[0m\u001b[0;34m)\u001b[0m\u001b[0;34m\u001b[0m\u001b[0;34m\u001b[0m\u001b[0m\n\u001b[1;32m     10\u001b[0m \u001b[0;34m\u001b[0m\u001b[0m\n\u001b[0;32m---> 11\u001b[0;31m \u001b[0mmain\u001b[0m\u001b[0;34m(\u001b[0m\u001b[0;34m)\u001b[0m\u001b[0;34m\u001b[0m\u001b[0;34m\u001b[0m\u001b[0m\n\u001b[0m",
            "\u001b[0;32m<ipython-input-26-0c80a6eefe85>\u001b[0m in \u001b[0;36mmain\u001b[0;34m()\u001b[0m\n\u001b[1;32m      4\u001b[0m    \u001b[0mg3\u001b[0m \u001b[0;34m=\u001b[0m \u001b[0mOrGate\u001b[0m\u001b[0;34m(\u001b[0m\u001b[0;34m\"G3\"\u001b[0m\u001b[0;34m)\u001b[0m\u001b[0;34m\u001b[0m\u001b[0;34m\u001b[0m\u001b[0m\n\u001b[1;32m      5\u001b[0m    \u001b[0mg4\u001b[0m \u001b[0;34m=\u001b[0m \u001b[0mNotGate\u001b[0m\u001b[0;34m(\u001b[0m\u001b[0;34m\"G4\"\u001b[0m\u001b[0;34m)\u001b[0m\u001b[0;34m\u001b[0m\u001b[0;34m\u001b[0m\u001b[0m\n\u001b[0;32m----> 6\u001b[0;31m    \u001b[0mc1\u001b[0m \u001b[0;34m=\u001b[0m \u001b[0mConnector\u001b[0m\u001b[0;34m(\u001b[0m\u001b[0mg1\u001b[0m\u001b[0;34m,\u001b[0m\u001b[0mg3\u001b[0m\u001b[0;34m)\u001b[0m\u001b[0;34m\u001b[0m\u001b[0;34m\u001b[0m\u001b[0m\n\u001b[0m\u001b[1;32m      7\u001b[0m    \u001b[0mc2\u001b[0m \u001b[0;34m=\u001b[0m \u001b[0mConnector\u001b[0m\u001b[0;34m(\u001b[0m\u001b[0mg2\u001b[0m\u001b[0;34m,\u001b[0m\u001b[0mg3\u001b[0m\u001b[0;34m)\u001b[0m\u001b[0;34m\u001b[0m\u001b[0;34m\u001b[0m\u001b[0m\n\u001b[1;32m      8\u001b[0m    \u001b[0mc3\u001b[0m \u001b[0;34m=\u001b[0m \u001b[0mConnector\u001b[0m\u001b[0;34m(\u001b[0m\u001b[0mg3\u001b[0m\u001b[0;34m,\u001b[0m\u001b[0mg4\u001b[0m\u001b[0;34m)\u001b[0m\u001b[0;34m\u001b[0m\u001b[0;34m\u001b[0m\u001b[0m\n",
            "\u001b[0;32m<ipython-input-17-0e1642000c27>\u001b[0m in \u001b[0;36m__init__\u001b[0;34m(self, fgate, tgate)\u001b[0m\n\u001b[1;32m      5\u001b[0m         \u001b[0mself\u001b[0m\u001b[0;34m.\u001b[0m\u001b[0mtogate\u001b[0m \u001b[0;34m=\u001b[0m \u001b[0mtgate\u001b[0m\u001b[0;34m\u001b[0m\u001b[0;34m\u001b[0m\u001b[0m\n\u001b[1;32m      6\u001b[0m \u001b[0;34m\u001b[0m\u001b[0m\n\u001b[0;32m----> 7\u001b[0;31m         \u001b[0mtgate\u001b[0m\u001b[0;34m.\u001b[0m\u001b[0msetNextPin\u001b[0m\u001b[0;34m(\u001b[0m\u001b[0mself\u001b[0m\u001b[0;34m)\u001b[0m\u001b[0;34m\u001b[0m\u001b[0;34m\u001b[0m\u001b[0m\n\u001b[0m\u001b[1;32m      8\u001b[0m \u001b[0;34m\u001b[0m\u001b[0m\n\u001b[1;32m      9\u001b[0m     \u001b[0;32mdef\u001b[0m \u001b[0mgetFrom\u001b[0m\u001b[0;34m(\u001b[0m\u001b[0mself\u001b[0m\u001b[0;34m)\u001b[0m\u001b[0;34m:\u001b[0m\u001b[0;34m\u001b[0m\u001b[0;34m\u001b[0m\u001b[0m\n",
            "\u001b[0;31mAttributeError\u001b[0m: 'OrGate' object has no attribute 'setNextPin'"
          ]
        }
      ]
    },
    {
      "cell_type": "markdown",
      "source": [
        "Self Check\n",
        "\n",
        "Create a two new gate classes, one called NorGate the other called NandGate. NandGates work like AndGates that have a Not attached to the output. NorGates work lake OrGates that have a Not attached to the output.\n",
        "\n",
        "Create a series of gates that prove the following equality NOT (( A and B) or (C and D)) is that same as NOT( A and B ) and NOT (C and D). Make sure to use some of your new gates in the simulation."
      ],
      "metadata": {
        "id": "DWvYmQPiFPP_"
      }
    },
    {
      "cell_type": "code",
      "source": [],
      "metadata": {
        "id": "I1WK5njtFQHl"
      },
      "execution_count": null,
      "outputs": []
    }
  ]
}